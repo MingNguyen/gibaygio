{
 "cells": [
  {
   "cell_type": "code",
   "execution_count": 1,
   "metadata": {},
   "outputs": [
    {
     "name": "stderr",
     "output_type": "stream",
     "text": [
      "D:\\code\\python\\resource\\lib\\site-packages\\pydub\\utils.py:170: RuntimeWarning: Couldn't find ffmpeg or avconv - defaulting to ffmpeg, but may not work\n",
      "  warn(\"Couldn't find ffmpeg or avconv - defaulting to ffmpeg, but may not work\", RuntimeWarning)\n"
     ]
    }
   ],
   "source": [
    "import os\n",
    "from os.path import isdir, join\n",
    "from pathlib import Path\n",
    "import pandas as pd\n",
    "\n",
    "import wave\n",
    "\n",
    "import tensorflow as tf\n",
    "from tensorflow import keras\n",
    "\n",
    "\n",
    "import matplotlib.pyplot as plt\n",
    "\n",
    "from pydub import AudioSegment as am\n",
    "import csv"
   ]
  },
  {
   "cell_type": "code",
   "execution_count": 2,
   "metadata": {},
   "outputs": [],
   "source": [
    "origin_path = './data/Origin/'\n",
    "split_data_path = './data/split data/'\n",
    "label = [\"Bao Han\",\"Thanh Chi\",\"Duc Manh\",\"Minh Hieu\",\"Gia Minh\"]\n",
    "header = ['file name','frames rate','time','labels','ID','directory']"
   ]
  },
  {
   "cell_type": "code",
   "execution_count": 3,
   "metadata": {},
   "outputs": [
    {
     "name": "stdout",
     "output_type": "stream",
     "text": [
      "audio file of Bao Han:\n",
      "before convert frame rates: 44100\n",
      "after converted frame rates: 16000\n",
      "\n",
      "audio file of Thanh Chi:\n",
      "before convert frame rates: 48000\n",
      "after converted frame rates: 16000\n",
      "\n",
      "audio file of Duc Manh:\n",
      "before convert frame rates: 48000\n",
      "after converted frame rates: 16000\n",
      "\n",
      "audio file of Minh Hieu:\n",
      "before convert frame rates: 44100\n",
      "after converted frame rates: 16000\n",
      "\n",
      "audio file of Gia Minh:\n",
      "before convert frame rates: 48000\n",
      "after converted frame rates: 16000\n",
      "\n"
     ]
    }
   ],
   "source": [
    "for i in label:\n",
    "  sound = am.from_file(origin_path+i+'/Origin.wav', format='wav')\n",
    "  print('audio file of',i+':')\n",
    "  print('before convert frame rates:',sound.frame_rate)\n",
    "  sound = sound.set_frame_rate(16000)\n",
    "  sound.export(origin_path+i+'/Converted.wav', format='wav')\n",
    "  print('after converted frame rates:',sound.frame_rate)\n",
    "  print()"
   ]
  },
  {
   "cell_type": "code",
   "execution_count": 4,
   "metadata": {},
   "outputs": [],
   "source": [
    "h = 0\n",
    "f = open('./management.csv', 'w+')\n",
    "writer = csv.writer(f)\n",
    "writer.writerow(header)\n",
    "for i in label:\n",
    "  h += 1\n",
    "  newAudio = am.from_wav(origin_path+i+'/Converted.wav')\n",
    "  for j in range(0,1200):\n",
    "    Audio = newAudio[1000*j:(j+1)*1000]\n",
    "    m = 10000*h+j+1\n",
    "    Audio.export(split_data_path+i+'/'+str(m)+'.wav', format=\"wav\")\n",
    "    writer.writerow(['{}.wav'.format(m),16000,'1',i,h-1,'./data/split data/'+i])\n",
    "f.close()"
   ]
  },
  {
   "cell_type": "code",
   "execution_count": 5,
   "metadata": {},
   "outputs": [
    {
     "data": {
      "text/html": [
       "<div>\n",
       "<style scoped>\n",
       "    .dataframe tbody tr th:only-of-type {\n",
       "        vertical-align: middle;\n",
       "    }\n",
       "\n",
       "    .dataframe tbody tr th {\n",
       "        vertical-align: top;\n",
       "    }\n",
       "\n",
       "    .dataframe thead th {\n",
       "        text-align: right;\n",
       "    }\n",
       "</style>\n",
       "<table border=\"1\" class=\"dataframe\">\n",
       "  <thead>\n",
       "    <tr style=\"text-align: right;\">\n",
       "      <th></th>\n",
       "      <th>file name</th>\n",
       "      <th>frames rate</th>\n",
       "      <th>time</th>\n",
       "      <th>labels</th>\n",
       "      <th>ID</th>\n",
       "      <th>directory</th>\n",
       "    </tr>\n",
       "  </thead>\n",
       "  <tbody>\n",
       "    <tr>\n",
       "      <th>0</th>\n",
       "      <td>10001.wav</td>\n",
       "      <td>16000</td>\n",
       "      <td>1</td>\n",
       "      <td>Bao Han</td>\n",
       "      <td>0</td>\n",
       "      <td>./data/split data/Bao Han</td>\n",
       "    </tr>\n",
       "    <tr>\n",
       "      <th>1</th>\n",
       "      <td>10002.wav</td>\n",
       "      <td>16000</td>\n",
       "      <td>1</td>\n",
       "      <td>Bao Han</td>\n",
       "      <td>0</td>\n",
       "      <td>./data/split data/Bao Han</td>\n",
       "    </tr>\n",
       "    <tr>\n",
       "      <th>2</th>\n",
       "      <td>10003.wav</td>\n",
       "      <td>16000</td>\n",
       "      <td>1</td>\n",
       "      <td>Bao Han</td>\n",
       "      <td>0</td>\n",
       "      <td>./data/split data/Bao Han</td>\n",
       "    </tr>\n",
       "    <tr>\n",
       "      <th>3</th>\n",
       "      <td>10004.wav</td>\n",
       "      <td>16000</td>\n",
       "      <td>1</td>\n",
       "      <td>Bao Han</td>\n",
       "      <td>0</td>\n",
       "      <td>./data/split data/Bao Han</td>\n",
       "    </tr>\n",
       "    <tr>\n",
       "      <th>4</th>\n",
       "      <td>10005.wav</td>\n",
       "      <td>16000</td>\n",
       "      <td>1</td>\n",
       "      <td>Bao Han</td>\n",
       "      <td>0</td>\n",
       "      <td>./data/split data/Bao Han</td>\n",
       "    </tr>\n",
       "  </tbody>\n",
       "</table>\n",
       "</div>"
      ],
      "text/plain": [
       "   file name  frames rate  time   labels  ID                  directory\n",
       "0  10001.wav        16000     1  Bao Han   0  ./data/split data/Bao Han\n",
       "1  10002.wav        16000     1  Bao Han   0  ./data/split data/Bao Han\n",
       "2  10003.wav        16000     1  Bao Han   0  ./data/split data/Bao Han\n",
       "3  10004.wav        16000     1  Bao Han   0  ./data/split data/Bao Han\n",
       "4  10005.wav        16000     1  Bao Han   0  ./data/split data/Bao Han"
      ]
     },
     "execution_count": 5,
     "metadata": {},
     "output_type": "execute_result"
    }
   ],
   "source": [
    "A = pd.read_csv('./management.csv')\n",
    "A.head()"
   ]
  }
 ],
 "metadata": {
  "interpreter": {
   "hash": "9881ef05cb6b21837272acdd16fefc950e9e693fbb3274f44385e730a0ff5b69"
  },
  "kernelspec": {
   "display_name": "Python 3.9.9 64-bit",
   "language": "python",
   "name": "python3"
  },
  "language_info": {
   "codemirror_mode": {
    "name": "ipython",
    "version": 3
   },
   "file_extension": ".py",
   "mimetype": "text/x-python",
   "name": "python",
   "nbconvert_exporter": "python",
   "pygments_lexer": "ipython3",
   "version": "3.9.9"
  },
  "orig_nbformat": 4
 },
 "nbformat": 4,
 "nbformat_minor": 2
}
